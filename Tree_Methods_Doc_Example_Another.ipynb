{
 "cells": [
  {
   "cell_type": "markdown",
   "metadata": {},
   "source": [
    "We'll work through Decision Tree, Random Forest and Gradient Boosted Tress."
   ]
  },
  {
   "cell_type": "markdown",
   "metadata": {},
   "source": [
    "We will also expand a little more from the documentation example and show more some useful evaluation features!"
   ]
  },
  {
   "cell_type": "code",
   "execution_count": 1,
   "metadata": {},
   "outputs": [],
   "source": [
    "from pyspark.sql import SparkSession\n",
    "spark = SparkSession.builder.appName('mytree').getOrCreate()"
   ]
  },
  {
   "cell_type": "code",
   "execution_count": 2,
   "metadata": {},
   "outputs": [],
   "source": [
    "from pyspark.ml import Pipeline"
   ]
  },
  {
   "cell_type": "code",
   "execution_count": 3,
   "metadata": {},
   "outputs": [],
   "source": [
    "from pyspark.ml.classification import (RandomForestClassifier, GBTClassifier, DecisionTreeClassifier)"
   ]
  },
  {
   "cell_type": "code",
   "execution_count": 4,
   "metadata": {},
   "outputs": [],
   "source": [
    "data = spark.read.format('libsvm').load('sample_libsvm_data.txt')"
   ]
  },
  {
   "cell_type": "code",
   "execution_count": 6,
   "metadata": {},
   "outputs": [
    {
     "name": "stdout",
     "output_type": "stream",
     "text": [
      "+-----+--------------------+\n",
      "|label|            features|\n",
      "+-----+--------------------+\n",
      "|  0.0|(692,[127,128,129...|\n",
      "|  1.0|(692,[158,159,160...|\n",
      "|  1.0|(692,[124,125,126...|\n",
      "|  1.0|(692,[152,153,154...|\n",
      "|  1.0|(692,[151,152,153...|\n",
      "+-----+--------------------+\n",
      "only showing top 5 rows\n",
      "\n"
     ]
    }
   ],
   "source": [
    "data.show(5)"
   ]
  },
  {
   "cell_type": "code",
   "execution_count": 7,
   "metadata": {},
   "outputs": [],
   "source": [
    "train_data, test_data = data.randomSplit([0.7,0.3])"
   ]
  },
  {
   "cell_type": "code",
   "execution_count": 9,
   "metadata": {},
   "outputs": [],
   "source": [
    "dtc = DecisionTreeClassifier()             # default parameters labelCol='label'\n",
    "rfc = RandomForestClassifier(numTrees=100) # as numTress increases, accuracy does not increase anymore. \n",
    "                                           # The goal is to reach this number.\n",
    "gbt = GBTClassifier()                      # default parameters"
   ]
  },
  {
   "cell_type": "code",
   "execution_count": 10,
   "metadata": {},
   "outputs": [],
   "source": [
    "dtc_model = dtc.fit(train_data)\n",
    "rfc_model = rfc.fit(train_data)\n",
    "gbt_model = gbt.fit(train_data)"
   ]
  },
  {
   "cell_type": "code",
   "execution_count": 11,
   "metadata": {},
   "outputs": [],
   "source": [
    "dtc_preds = dtc_model.transform(test_data)\n",
    "rfc_preds = rfc_model.transform(test_data)\n",
    "gbt_preds = gbt_model.transform(test_data)"
   ]
  },
  {
   "cell_type": "code",
   "execution_count": 24,
   "metadata": {},
   "outputs": [
    {
     "name": "stdout",
     "output_type": "stream",
     "text": [
      "+-----+--------------------+-------------+-----------+----------+\n",
      "|label|            features|rawPrediction|probability|prediction|\n",
      "+-----+--------------------+-------------+-----------+----------+\n",
      "|  0.0|(692,[98,99,100,1...|    [0.0,1.0]|  [0.0,1.0]|       1.0|\n",
      "|  0.0|(692,[121,122,123...|   [25.0,0.0]|  [1.0,0.0]|       0.0|\n",
      "|  0.0|(692,[123,124,125...|   [25.0,0.0]|  [1.0,0.0]|       0.0|\n",
      "|  0.0|(692,[124,125,126...|   [25.0,0.0]|  [1.0,0.0]|       0.0|\n",
      "+-----+--------------------+-------------+-----------+----------+\n",
      "only showing top 4 rows\n",
      "\n"
     ]
    }
   ],
   "source": [
    "dtc_preds.show(4)"
   ]
  },
  {
   "cell_type": "code",
   "execution_count": 25,
   "metadata": {},
   "outputs": [
    {
     "name": "stdout",
     "output_type": "stream",
     "text": [
      "+-----+--------------------+-------------+-----------+----------+\n",
      "|label|            features|rawPrediction|probability|prediction|\n",
      "+-----+--------------------+-------------+-----------+----------+\n",
      "|  0.0|(692,[98,99,100,1...|   [99.0,1.0]|[0.99,0.01]|       0.0|\n",
      "|  0.0|(692,[121,122,123...|   [95.0,5.0]|[0.95,0.05]|       0.0|\n",
      "|  0.0|(692,[123,124,125...|   [95.0,5.0]|[0.95,0.05]|       0.0|\n",
      "|  0.0|(692,[124,125,126...|  [100.0,0.0]|  [1.0,0.0]|       0.0|\n",
      "+-----+--------------------+-------------+-----------+----------+\n",
      "only showing top 4 rows\n",
      "\n"
     ]
    }
   ],
   "source": [
    "rfc_preds.show(4)"
   ]
  },
  {
   "cell_type": "code",
   "execution_count": 26,
   "metadata": {},
   "outputs": [
    {
     "name": "stdout",
     "output_type": "stream",
     "text": [
      "+-----+--------------------+--------------------+--------------------+----------+\n",
      "|label|            features|       rawPrediction|         probability|prediction|\n",
      "+-----+--------------------+--------------------+--------------------+----------+\n",
      "|  0.0|(692,[98,99,100,1...|[-0.5628413359418...|[0.24495872828862...|       1.0|\n",
      "|  0.0|(692,[121,122,123...|[1.54350200272498...|[0.95635347857270...|       0.0|\n",
      "|  0.0|(692,[123,124,125...|[1.54350200272498...|[0.95635347857270...|       0.0|\n",
      "|  0.0|(692,[124,125,126...|[1.54350200272498...|[0.95635347857270...|       0.0|\n",
      "+-----+--------------------+--------------------+--------------------+----------+\n",
      "only showing top 4 rows\n",
      "\n"
     ]
    }
   ],
   "source": [
    "gbt_preds.show(4)"
   ]
  },
  {
   "cell_type": "code",
   "execution_count": 16,
   "metadata": {},
   "outputs": [],
   "source": [
    "from pyspark.ml.evaluation import MulticlassClassificationEvaluator"
   ]
  },
  {
   "cell_type": "code",
   "execution_count": 17,
   "metadata": {},
   "outputs": [],
   "source": [
    "acc_eval = MulticlassClassificationEvaluator(metricName='accuracy')"
   ]
  },
  {
   "cell_type": "code",
   "execution_count": 23,
   "metadata": {},
   "outputs": [
    {
     "name": "stdout",
     "output_type": "stream",
     "text": [
      "DTC, RFC and GBT ACCURACY:\n"
     ]
    },
    {
     "data": {
      "text/plain": [
       "[0.9375, 1.0, 0.9375]"
      ]
     },
     "execution_count": 23,
     "metadata": {},
     "output_type": "execute_result"
    }
   ],
   "source": [
    "print('DTC, RFC and GBT ACCURACY:')\n",
    "[acc_eval.evaluate(dtc_preds),acc_eval.evaluate(rfc_preds),acc_eval.evaluate(gbt_preds)]"
   ]
  },
  {
   "cell_type": "code",
   "execution_count": 22,
   "metadata": {},
   "outputs": [
    {
     "data": {
      "text/plain": [
       "SparseVector(692, {126: 0.0007, 131: 0.0019, 155: 0.0006, 156: 0.0013, 180: 0.001, 184: 0.0008, 186: 0.0007, 187: 0.0008, 207: 0.0041, 210: 0.0015, 215: 0.0007, 216: 0.0075, 231: 0.0018, 235: 0.0086, 236: 0.0007, 243: 0.0017, 244: 0.0077, 245: 0.0009, 260: 0.0008, 262: 0.0071, 263: 0.0069, 267: 0.0006, 268: 0.0006, 271: 0.0003, 289: 0.0076, 291: 0.0057, 295: 0.0142, 297: 0.0006, 298: 0.0007, 300: 0.0019, 302: 0.0024, 313: 0.0006, 314: 0.0014, 317: 0.0094, 318: 0.0135, 319: 0.0008, 320: 0.0005, 323: 0.0179, 324: 0.001, 325: 0.0007, 328: 0.0007, 329: 0.0094, 330: 0.0145, 331: 0.0006, 346: 0.0078, 348: 0.0004, 349: 0.0005, 350: 0.0397, 351: 0.0394, 352: 0.0041, 353: 0.0007, 354: 0.0004, 355: 0.0008, 357: 0.0014, 358: 0.0136, 370: 0.001, 372: 0.0091, 373: 0.0084, 375: 0.0014, 378: 0.0611, 379: 0.0194, 380: 0.0006, 381: 0.0016, 382: 0.0024, 383: 0.0011, 385: 0.0082, 386: 0.0004, 388: 0.0006, 397: 0.0007, 399: 0.0125, 400: 0.0014, 401: 0.0193, 402: 0.0007, 403: 0.0013, 405: 0.0182, 406: 0.0319, 407: 0.0341, 408: 0.0012, 410: 0.004, 411: 0.0013, 413: 0.0049, 428: 0.0164, 429: 0.0037, 430: 0.0058, 433: 0.0291, 434: 0.0343, 435: 0.0028, 436: 0.0006, 439: 0.0016, 440: 0.0082, 441: 0.0073, 443: 0.0014, 455: 0.0238, 456: 0.0164, 457: 0.0088, 458: 0.0007, 461: 0.018, 462: 0.0163, 463: 0.001, 466: 0.0021, 467: 0.0039, 468: 0.004, 469: 0.0007, 471: 0.0006, 483: 0.0227, 486: 0.0014, 489: 0.0292, 490: 0.0205, 492: 0.0006, 495: 0.0086, 511: 0.0174, 512: 0.0184, 513: 0.0017, 515: 0.002, 516: 0.0052, 517: 0.058, 518: 0.0026, 519: 0.0007, 524: 0.0073, 539: 0.0308, 540: 0.0097, 541: 0.0006, 542: 0.0004, 544: 0.002, 550: 0.0135, 551: 0.0072, 595: 0.0045, 598: 0.0008, 608: 0.0012, 626: 0.0011, 627: 0.0014, 629: 0.0017, 651: 0.0009, 654: 0.0006, 688: 0.0008})"
      ]
     },
     "execution_count": 22,
     "metadata": {},
     "output_type": "execute_result"
    }
   ],
   "source": [
    "# shows the feature and its importance\n",
    "rfc_model.featureImportances"
   ]
  }
 ],
 "metadata": {
  "kernelspec": {
   "display_name": "Python 3",
   "language": "python",
   "name": "python3"
  },
  "language_info": {
   "codemirror_mode": {
    "name": "ipython",
    "version": 3
   },
   "file_extension": ".py",
   "mimetype": "text/x-python",
   "name": "python",
   "nbconvert_exporter": "python",
   "pygments_lexer": "ipython3",
   "version": "3.7.4"
  }
 },
 "nbformat": 4,
 "nbformat_minor": 2
}
